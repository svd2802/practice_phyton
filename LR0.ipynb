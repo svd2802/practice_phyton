{
 "cells": [
  {
   "cell_type": "markdown",
   "metadata": {},
   "source": [
    "Дано N чисел: сначала вводится число N, затем вводится ровно N целых чисел. Подсчитайте количество нулей среди введенных чисел и выведите это количество. Вам нужно подсчитать количество чисел, равных нулю, а не количество цифр. Результат оформить в виде функции принимающей лист из N чисел, и возвращающей ответ. "
   ]
  },
  {
   "cell_type": "code",
   "execution_count": 22,
   "metadata": {},
   "outputs": [],
   "source": [
    "numbers = [12, 51, 6734, 0, 12, 0]"
   ]
  },
  {
   "cell_type": "code",
   "execution_count": 19,
   "metadata": {},
   "outputs": [
    {
     "name": "stdout",
     "output_type": "stream",
     "text": [
      "Введите N - целое число: 4\n",
      "Необходимо ввести 4 целых чисел.\n",
      "Введите целое число: 12\n",
      "Введите целое число: 537\n",
      "Введите целое число: 4\n",
      "Введите целое число: 125\n"
     ]
    }
   ],
   "source": [
    "n = int(input(\"Введите N - целое число: \", ))\n",
    "numbers = []\n",
    "print(\"Необходимо ввести \" + str(n) + \" целых чисел.\")\n",
    "while len(numbers) < n:\n",
    "    try:\n",
    "        temp = int(input(\"Введите целое число: \", ))\n",
    "        if type(temp) != int:\n",
    "            raise ValueError\n",
    "    except ValueError:\n",
    "        print(\"Введено некорректное значение\")\n",
    "        break\n",
    "    numbers.append(temp)"
   ]
  },
  {
   "cell_type": "code",
   "execution_count": 20,
   "metadata": {},
   "outputs": [],
   "source": [
    "def check_zeros(numbers):\n",
    "    count = 0\n",
    "    for i in numbers:\n",
    "        if i == 0:\n",
    "            count += 1\n",
    "    #return numbers.count(0)\n",
    "    return count"
   ]
  },
  {
   "cell_type": "code",
   "execution_count": 23,
   "metadata": {},
   "outputs": [
    {
     "name": "stdout",
     "output_type": "stream",
     "text": [
      "2\n"
     ]
    }
   ],
   "source": [
    "print(check_zeros(numbers))"
   ]
  }
 ],
 "metadata": {
  "kernelspec": {
   "display_name": "Python 3",
   "language": "python",
   "name": "python3"
  },
  "language_info": {
   "codemirror_mode": {
    "name": "ipython",
    "version": 3
   },
   "file_extension": ".py",
   "mimetype": "text/x-python",
   "name": "python",
   "nbconvert_exporter": "python",
   "pygments_lexer": "ipython3",
   "version": "3.8.3"
  }
 },
 "nbformat": 4,
 "nbformat_minor": 4
}
