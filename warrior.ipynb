{
 "cells": [
  {
   "cell_type": "code",
   "execution_count": 148,
   "metadata": {},
   "outputs": [],
   "source": [
    "import sys\n",
    "import random\n",
    "\n",
    "class Warrior:\n",
    "    def __init__(self, name = 'default_warrior', health = 100, damage = 20):\n",
    "        self.name = name\n",
    "        self.health  = health\n",
    "        self.damage = damage\n",
    "    \n",
    "    def get_damage(self, damage):\n",
    "        if self.health > 0:\n",
    "            self.health -= damage\n",
    "            print(str(self.name) + \" получил \" + str(damage) + \" урона. У него осталось \" + str(self.health) + \" здоровья.\")\n",
    "        if self.health <= 0:\n",
    "            self.health = 0\n",
    "            print(str(self.name) + \" погиб.\")\n",
    "            \n",
    "    def attack(self, target):\n",
    "        if self.health == 0:\n",
    "            return print(str(self.name) + \" не может атаковать в таком состоянии.\")            \n",
    "        print(str(self.name) + \" атакует война по имени \" + str(target.name))\n",
    "        target.get_damage(self.damage)\n",
    "        if target.health == 0:      \n",
    "            print(self.to_string() + \"; празднует победу над \" + str(target.name))\n",
    "        \n",
    "    def __del__(self):\n",
    "        print(\"Valhalla, \" + str(self.name) + \" is coming.\")\n",
    "        \n",
    "        \n",
    "    def to_string(self):\n",
    "        return str(\"Великий воин \" + str(self.name) + \"; Здоровье: \" + str(self.health) + \"; Урон: \" + str(self.damage))\n",
    "        "
   ]
  },
  {
   "cell_type": "code",
   "execution_count": 160,
   "metadata": {},
   "outputs": [],
   "source": [
    "a = Warrior('Abe')\n",
    "b = Warrior('Bjorn')\n",
    "c = Warrior('Sigmair')\n",
    "temp = [a,b,c]"
   ]
  },
  {
   "cell_type": "code",
   "execution_count": 156,
   "metadata": {},
   "outputs": [
    {
     "name": "stdout",
     "output_type": "stream",
     "text": [
      "Великий воин Abe; Здоровье: 100; Урон: 20\n",
      "Великий воин Bjorn; Здоровье: 100; Урон: 20\n",
      "Великий воин Sigmair; Здоровье: 100; Урон: 20\n"
     ]
    }
   ],
   "source": [
    "for i in temp:\n",
    "    print(i.to_string())"
   ]
  },
  {
   "cell_type": "code",
   "execution_count": 163,
   "metadata": {
    "scrolled": true
   },
   "outputs": [
    {
     "name": "stdout",
     "output_type": "stream",
     "text": [
      "Sigmair атакует война по имени Abe\n",
      "Abe получил 20 урона. У него осталось 20 здоровья.\n",
      "\n",
      "Sigmair атакует война по имени Abe\n",
      "Abe получил 20 урона. У него осталось 0 здоровья.\n",
      "Abe погиб.\n",
      "Великий воин Sigmair; Здоровье: 80; Урон: 20; празднует победу над Abe\n",
      "\n"
     ]
    },
    {
     "ename": "AttributeError",
     "evalue": "type object 'Warrior' has no attribute 'duel'",
     "output_type": "error",
     "traceback": [
      "\u001b[1;31m---------------------------------------------------------------------------\u001b[0m",
      "\u001b[1;31mAttributeError\u001b[0m                            Traceback (most recent call last)",
      "\u001b[1;32m<ipython-input-163-0fb859238446>\u001b[0m in \u001b[0;36m<module>\u001b[1;34m\u001b[0m\n\u001b[0;32m      7\u001b[0m             \u001b[1;32mif\u001b[0m \u001b[0mduel\u001b[0m\u001b[1;33m[\u001b[0m\u001b[1;36m1\u001b[0m\u001b[1;33m]\u001b[0m\u001b[1;33m.\u001b[0m\u001b[0mhealth\u001b[0m \u001b[1;33m==\u001b[0m \u001b[1;36m0\u001b[0m\u001b[1;33m:\u001b[0m\u001b[1;33m\u001b[0m\u001b[1;33m\u001b[0m\u001b[0m\n\u001b[0;32m      8\u001b[0m                 \u001b[0mtemp\u001b[0m\u001b[1;33m.\u001b[0m\u001b[0mremove\u001b[0m\u001b[1;33m(\u001b[0m\u001b[0mduel\u001b[0m\u001b[1;33m[\u001b[0m\u001b[1;36m1\u001b[0m\u001b[1;33m]\u001b[0m\u001b[1;33m)\u001b[0m\u001b[1;33m\u001b[0m\u001b[1;33m\u001b[0m\u001b[0m\n\u001b[1;32m----> 9\u001b[1;33m                 \u001b[1;32mdel\u001b[0m \u001b[0mWarrior\u001b[0m\u001b[1;33m.\u001b[0m\u001b[0mduel\u001b[0m\u001b[1;33m[\u001b[0m\u001b[1;36m1\u001b[0m\u001b[1;33m]\u001b[0m\u001b[1;33m\u001b[0m\u001b[1;33m\u001b[0m\u001b[0m\n\u001b[0m\u001b[0;32m     10\u001b[0m     \u001b[1;32melif\u001b[0m \u001b[0mlen\u001b[0m\u001b[1;33m(\u001b[0m\u001b[0mtemp\u001b[0m\u001b[1;33m)\u001b[0m \u001b[1;33m==\u001b[0m \u001b[1;36m1\u001b[0m\u001b[1;33m:\u001b[0m\u001b[1;33m\u001b[0m\u001b[1;33m\u001b[0m\u001b[0m\n\u001b[0;32m     11\u001b[0m         \u001b[1;32mbreak\u001b[0m\u001b[1;33m\u001b[0m\u001b[1;33m\u001b[0m\u001b[0m\n",
      "\u001b[1;31mAttributeError\u001b[0m: type object 'Warrior' has no attribute 'duel'"
     ]
    }
   ],
   "source": [
    "while True:\n",
    "    if len(temp) > 1:\n",
    "        duel = random.sample(temp, 2)\n",
    "        if duel[1].health > 0 and duel[0].health > 0:\n",
    "            duel[0].attack(duel[1])\n",
    "            print()\n",
    "            if duel[1].health == 0:\n",
    "                temp.remove(duel[1])\n",
    "                del duel[1]    \n",
    "    elif len(temp) == 1:\n",
    "        break\n",
    "    else:\n",
    "        print(\"Недостаточно участников.\")\n",
    "        break"
   ]
  },
  {
   "cell_type": "code",
   "execution_count": null,
   "metadata": {},
   "outputs": [],
   "source": []
  },
  {
   "cell_type": "code",
   "execution_count": null,
   "metadata": {},
   "outputs": [],
   "source": []
  }
 ],
 "metadata": {
  "kernelspec": {
   "display_name": "Python 3",
   "language": "python",
   "name": "python3"
  },
  "language_info": {
   "codemirror_mode": {
    "name": "ipython",
    "version": 3
   },
   "file_extension": ".py",
   "mimetype": "text/x-python",
   "name": "python",
   "nbconvert_exporter": "python",
   "pygments_lexer": "ipython3",
   "version": "3.8.3"
  }
 },
 "nbformat": 4,
 "nbformat_minor": 4
}
