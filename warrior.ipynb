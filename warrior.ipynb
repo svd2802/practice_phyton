{
 "cells": [
  {
   "cell_type": "code",
   "execution_count": 81,
   "metadata": {},
   "outputs": [],
   "source": [
    "import sys\n",
    "import random\n",
    "\n",
    "class Warrior:\n",
    "    def __init__(self, name = 'default_warrior', health = 100):\n",
    "        self.name = name\n",
    "        self.health  = health\n",
    "        self.damage = 20\n",
    "    \n",
    "    def get_damage(self, damage):\n",
    "        if self.health > 0:\n",
    "            self.health -= damage\n",
    "            print(str(self.name) + \" получил \" + str(damage) + \" урона. У него осталось \" + str(self.health) + \" здоровья.\")\n",
    "        else:\n",
    "            return print(str(self.name) + \" уже мертв.\")\n",
    "        if self.health <= 0:\n",
    "            self.health = 0\n",
    "            print(str(self.name) + \" погиб.\")\n",
    "            \n",
    "    def attack(self, target):\n",
    "        if self.health == 0:\n",
    "            return print(str(self.name) + \" не может атаковать в таком состоянии.\")            \n",
    "        print(str(self.name) + \" атакует война по имени \" + str(target.name))\n",
    "        target.get_damage(self.damage)\n",
    "        if target.health == 0:\n",
    "            print(\"Воин \" + str(self.name) + \" празднует победу над \" + str(target.name))\n",
    "            return sys.exit() \n",
    "        \n",
    "    def to_string(self):\n",
    "        return \"Великий воин \" + str(self.name) + \"\\nЗдоровье: \" + str(self.health) + \"\\nУрон: \" + str(self.damage)\n",
    "        "
   ]
  },
  {
   "cell_type": "code",
   "execution_count": 82,
   "metadata": {},
   "outputs": [],
   "source": [
    "a = Warrior('Abe')\n",
    "b = Warrior('Bjorn')\n",
    "c = Warrior('Sigmair')\n",
    "#d = Warrior('Uve')\n",
    "#temp = [a, b, c, d]\n",
    "temp = [a,b,c]"
   ]
  },
  {
   "cell_type": "code",
   "execution_count": 83,
   "metadata": {},
   "outputs": [
    {
     "name": "stdout",
     "output_type": "stream",
     "text": [
      "Великий воин Abe\n",
      "Здоровье: 100\n",
      "Урон: 20\n",
      "Великий воин Bjorn\n",
      "Здоровье: 100\n",
      "Урон: 20\n",
      "Великий воин Sigmair\n",
      "Здоровье: 100\n",
      "Урон: 20\n"
     ]
    }
   ],
   "source": [
    "for i in temp:\n",
    "    print(i.to_string())"
   ]
  },
  {
   "cell_type": "code",
   "execution_count": 84,
   "metadata": {
    "scrolled": true
   },
   "outputs": [
    {
     "name": "stdout",
     "output_type": "stream",
     "text": [
      "Sigmair атакует война по имени Abe\n",
      "Abe получил 20 урона. У него осталось 80 здоровья.\n",
      "\n",
      "Abe атакует война по имени Sigmair\n",
      "Sigmair получил 20 урона. У него осталось 80 здоровья.\n",
      "\n",
      "Sigmair атакует война по имени Bjorn\n",
      "Bjorn получил 20 урона. У него осталось 80 здоровья.\n",
      "\n",
      "Bjorn атакует война по имени Sigmair\n",
      "Sigmair получил 20 урона. У него осталось 60 здоровья.\n",
      "\n",
      "Sigmair атакует война по имени Abe\n",
      "Abe получил 20 урона. У него осталось 60 здоровья.\n",
      "\n",
      "Sigmair атакует война по имени Bjorn\n",
      "Bjorn получил 20 урона. У него осталось 60 здоровья.\n",
      "\n",
      "Sigmair атакует война по имени Abe\n",
      "Abe получил 20 урона. У него осталось 40 здоровья.\n",
      "\n",
      "Abe атакует война по имени Bjorn\n",
      "Bjorn получил 20 урона. У него осталось 40 здоровья.\n",
      "\n",
      "Abe атакует война по имени Bjorn\n",
      "Bjorn получил 20 урона. У него осталось 20 здоровья.\n",
      "\n",
      "Bjorn атакует война по имени Abe\n",
      "Abe получил 20 урона. У него осталось 20 здоровья.\n",
      "\n",
      "Bjorn атакует война по имени Abe\n",
      "Abe получил 20 урона. У него осталось 0 здоровья.\n",
      "Abe погиб.\n",
      "Воин Bjorn празднует победу над Abe\n"
     ]
    },
    {
     "ename": "SystemExit",
     "evalue": "",
     "output_type": "error",
     "traceback": [
      "An exception has occurred, use %tb to see the full traceback.\n",
      "\u001b[1;31mSystemExit\u001b[0m\n"
     ]
    },
    {
     "name": "stderr",
     "output_type": "stream",
     "text": [
      "C:\\ProgramData\\Anaconda3\\lib\\site-packages\\IPython\\core\\interactiveshell.py:3351: UserWarning: To exit: use 'exit', 'quit', or Ctrl-D.\n",
      "  warn(\"To exit: use 'exit', 'quit', or Ctrl-D.\", stacklevel=1)\n"
     ]
    }
   ],
   "source": [
    "while True:\n",
    "    if len(temp) > 1:\n",
    "        duel = random.sample(temp, 2)\n",
    "        if duel[1].health > 0:\n",
    "            duel[0].attack(duel[1])\n",
    "            print()\n",
    "        else:\n",
    "            break\n",
    "    else:\n",
    "        print(\"Недостаточно участников.\")\n",
    "        break"
   ]
  }
 ],
 "metadata": {
  "kernelspec": {
   "display_name": "Python 3",
   "language": "python",
   "name": "python3"
  },
  "language_info": {
   "codemirror_mode": {
    "name": "ipython",
    "version": 3
   },
   "file_extension": ".py",
   "mimetype": "text/x-python",
   "name": "python",
   "nbconvert_exporter": "python",
   "pygments_lexer": "ipython3",
   "version": "3.8.3"
  }
 },
 "nbformat": 4,
 "nbformat_minor": 4
}
